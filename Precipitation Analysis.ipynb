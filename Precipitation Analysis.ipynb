{
    "cells": [
        {
            "cell_type": "code",
            "execution_count": 2,
            "metadata": {},
            "outputs": [
                {
                    "data": {
                        "text/html": "<div>\n<style scoped>\n    .dataframe tbody tr th:only-of-type {\n        vertical-align: middle;\n    }\n\n    .dataframe tbody tr th {\n        vertical-align: top;\n    }\n\n    .dataframe thead th {\n        text-align: right;\n    }\n</style>\n<table border=\"1\" class=\"dataframe\">\n  <thead>\n    <tr style=\"text-align: right;\">\n      <th></th>\n      <th>Country or Area</th>\n      <th>1990</th>\n      <th>1995</th>\n      <th>1996</th>\n      <th>1997</th>\n      <th>1998</th>\n      <th>1999</th>\n      <th>2000</th>\n      <th>2001</th>\n      <th>2002</th>\n      <th>2003</th>\n      <th>2004</th>\n      <th>2005</th>\n      <th>2006</th>\n      <th>2007</th>\n      <th>2008</th>\n      <th>2009</th>\n    </tr>\n  </thead>\n  <tbody>\n    <tr>\n      <th>0</th>\n      <td>Albania</td>\n      <td>28385.000000</td>\n      <td>40311.000000</td>\n      <td>0.000000</td>\n      <td>0.000000</td>\n      <td>0.0</td>\n      <td>38284.000000</td>\n      <td>30683.000000</td>\n      <td>30491.000000</td>\n      <td>35883.000000</td>\n      <td>27893.000000</td>\n      <td>42787.000000</td>\n      <td>42840.000000</td>\n      <td>32380.000000</td>\n      <td>30964.000000</td>\n      <td>0.000000</td>\n      <td>0.000000</td>\n    </tr>\n    <tr>\n      <th>1</th>\n      <td>Algeria</td>\n      <td>76160.000000</td>\n      <td>90270.000000</td>\n      <td>53380.000000</td>\n      <td>74460.000000</td>\n      <td>66470.0</td>\n      <td>50150.000000</td>\n      <td>64430.000000</td>\n      <td>43840.000000</td>\n      <td>37317.000000</td>\n      <td>0.000000</td>\n      <td>0.000000</td>\n      <td>0.000000</td>\n      <td>0.000000</td>\n      <td>0.000000</td>\n      <td>100000.000000</td>\n      <td>0.000000</td>\n    </tr>\n    <tr>\n      <th>2</th>\n      <td>Andorra</td>\n      <td>539.947998</td>\n      <td>510.673004</td>\n      <td>560.340027</td>\n      <td>434.475006</td>\n      <td>254.0</td>\n      <td>450.151001</td>\n      <td>518.666016</td>\n      <td>456.626007</td>\n      <td>565.559021</td>\n      <td>566.583008</td>\n      <td>567.044006</td>\n      <td>530.278015</td>\n      <td>353.220001</td>\n      <td>306.630005</td>\n      <td>0.000000</td>\n      <td>0.000000</td>\n    </tr>\n    <tr>\n      <th>3</th>\n      <td>Anguilla</td>\n      <td>93.099998</td>\n      <td>100.730003</td>\n      <td>0.000000</td>\n      <td>0.000000</td>\n      <td>0.0</td>\n      <td>0.000000</td>\n      <td>68.190002</td>\n      <td>70.730003</td>\n      <td>68.190002</td>\n      <td>108.769997</td>\n      <td>84.250000</td>\n      <td>124.400002</td>\n      <td>99.550003</td>\n      <td>86.290001</td>\n      <td>96.889999</td>\n      <td>71.080002</td>\n    </tr>\n    <tr>\n      <th>4</th>\n      <td>Antigua and Barbuda</td>\n      <td>300.299988</td>\n      <td>374.500000</td>\n      <td>323.299988</td>\n      <td>279.200012</td>\n      <td>384.5</td>\n      <td>426.799988</td>\n      <td>249.600006</td>\n      <td>238.000000</td>\n      <td>268.600006</td>\n      <td>253.899994</td>\n      <td>426.899994</td>\n      <td>371.000000</td>\n      <td>332.799988</td>\n      <td>293.600006</td>\n      <td>392.500000</td>\n      <td>276.899994</td>\n    </tr>\n  </tbody>\n</table>\n</div>",
                        "text/plain": "       Country or Area          1990          1995          1996  \\\n0              Albania  28385.000000  40311.000000      0.000000   \n1              Algeria  76160.000000  90270.000000  53380.000000   \n2              Andorra    539.947998    510.673004    560.340027   \n3             Anguilla     93.099998    100.730003      0.000000   \n4  Antigua and Barbuda    300.299988    374.500000    323.299988   \n\n           1997     1998          1999          2000          2001  \\\n0      0.000000      0.0  38284.000000  30683.000000  30491.000000   \n1  74460.000000  66470.0  50150.000000  64430.000000  43840.000000   \n2    434.475006    254.0    450.151001    518.666016    456.626007   \n3      0.000000      0.0      0.000000     68.190002     70.730003   \n4    279.200012    384.5    426.799988    249.600006    238.000000   \n\n           2002          2003          2004          2005          2006  \\\n0  35883.000000  27893.000000  42787.000000  42840.000000  32380.000000   \n1  37317.000000      0.000000      0.000000      0.000000      0.000000   \n2    565.559021    566.583008    567.044006    530.278015    353.220001   \n3     68.190002    108.769997     84.250000    124.400002     99.550003   \n4    268.600006    253.899994    426.899994    371.000000    332.799988   \n\n           2007           2008        2009  \n0  30964.000000       0.000000    0.000000  \n1      0.000000  100000.000000    0.000000  \n2    306.630005       0.000000    0.000000  \n3     86.290001      96.889999   71.080002  \n4    293.600006     392.500000  276.899994  "
                    },
                    "execution_count": 2,
                    "metadata": {},
                    "output_type": "execute_result"
                }
            ],
            "source": "# The code was removed by Watson Studio for sharing."
        },
        {
            "cell_type": "code",
            "execution_count": null,
            "metadata": {},
            "outputs": [],
            "source": ""
        }
    ],
    "metadata": {
        "kernelspec": {
            "display_name": "Python 3.7",
            "language": "python",
            "name": "python3"
        },
        "language_info": {
            "codemirror_mode": {
                "name": "ipython",
                "version": 3
            },
            "file_extension": ".py",
            "mimetype": "text/x-python",
            "name": "python",
            "nbconvert_exporter": "python",
            "pygments_lexer": "ipython3",
            "version": "3.7.9"
        }
    },
    "nbformat": 4,
    "nbformat_minor": 1
}